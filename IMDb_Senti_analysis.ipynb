{
  "nbformat": 4,
  "nbformat_minor": 0,
  "metadata": {
    "colab": {
      "name": "IMDb_Senti_analysis.ipynb",
      "version": "0.3.2",
      "provenance": [],
      "collapsed_sections": [],
      "include_colab_link": true
    },
    "kernelspec": {
      "name": "python3",
      "display_name": "Python 3"
    },
    "accelerator": "GPU"
  },
  "cells": [
    {
      "cell_type": "markdown",
      "metadata": {
        "id": "view-in-github",
        "colab_type": "text"
      },
      "source": [
        "<a href=\"https://colab.research.google.com/github/kvsaiakhil/Internship-eYSIP-2019/blob/master/IMDb_Senti_analysis.ipynb\" target=\"_parent\"><img src=\"https://colab.research.google.com/assets/colab-badge.svg\" alt=\"Open In Colab\"/></a>"
      ]
    },
    {
      "cell_type": "markdown",
      "metadata": {
        "id": "IhvXcJmijp8f",
        "colab_type": "text"
      },
      "source": [
        "#Familiarizing with Pytorch and RNNs for NLP\n",
        "\n",
        "### \"Sentiment analysis of IMDb Reviews\"\n",
        "\n",
        "Reference Link: https://github.com/bentrevett/pytorch-sentiment-analysis"
      ]
    },
    {
      "cell_type": "code",
      "metadata": {
        "id": "shVzzGpub019",
        "colab_type": "code",
        "colab": {}
      },
      "source": [
        "import torch\n",
        "from torchtext import data\n",
        "from torchtext import datasets\n",
        "import torch.nn as nn\n",
        "import torch.optim as optim\n",
        "\n",
        "import random\n",
        "\n",
        "import time\n",
        "\n"
      ],
      "execution_count": 0,
      "outputs": []
    },
    {
      "cell_type": "code",
      "metadata": {
        "id": "umF6zqbOdzzw",
        "colab_type": "code",
        "colab": {}
      },
      "source": [
        "# Seed Initialization for pseudo random sequence generator\n",
        "\n",
        "SEED = 1234\n",
        "\n",
        "torch.manual_seed(SEED)\n",
        "torch.backends.cudnn.deterministic = True "
      ],
      "execution_count": 0,
      "outputs": []
    },
    {
      "cell_type": "code",
      "metadata": {
        "id": "Vu3PC5pMb1bH",
        "colab_type": "code",
        "colab": {}
      },
      "source": [
        "#from torchtext import data\n",
        "\n",
        "TEXT = data.Field(tokenize = 'spacy') # Tokenizing text field (Reviews) \n",
        "LABEL = data.LabelField(dtype = torch.float) # Label field is either 'pos'(1) or 'neg'(0)"
      ],
      "execution_count": 0,
      "outputs": []
    },
    {
      "cell_type": "code",
      "metadata": {
        "id": "4tQJGPEBd1Jk",
        "colab_type": "code",
        "colab": {
          "base_uri": "https://localhost:8080/",
          "height": 87
        },
        "outputId": "cfd4e703-db14-49e0-9a6e-05e3768e6dc2"
      },
      "source": [
        "# from torchtext import datasets\n",
        "\n",
        "# divide the dataset into test ad train\n",
        "\n",
        "train_data, test_data = datasets.IMDB.splits(TEXT, LABEL)\n",
        "\n",
        "print(f'Number of training examples: {len(train_data)}')\n",
        "print(f'Number of testing examples: {len(test_data)}')\n",
        "\n",
        "print(vars(train_data.examples[0]))"
      ],
      "execution_count": 25,
      "outputs": [
        {
          "output_type": "stream",
          "text": [
            "Number of training examples: 25000\n",
            "Number of testing examples: 25000\n",
            "{'text': ['Gung', 'Ho', 'is', 'one', 'of', 'those', 'movies', 'that', 'I', 'never', 'get', 'tired', 'of', 'watching', '.', 'Michael', 'Keaton', 'has', 'always', 'been', 'a', 'favorite', 'of', 'mine', ',', '&', 'he', 'is', 'absolutely', 'hilarious', 'in', 'this', 'movie', '.', 'Matching', 'him', 'step', 'for', 'step', 'is', 'Gedde', 'Watanabe', '.', 'The', 'two', 'of', 'them', 'work', 'wonderfully', 'together', '.', 'Although', 'this', 'movie', 'is', 'a', 'comedy', ',', 'I', 'also', 'like', 'how', 'it', 'shows', 'Hunt', '(', 'Keaton', ')', '&', 'Kazihiro', '(', 'Watanabe', ')', 'struggling', 'in', 'their', 'roles', 'as', 'the', 'leaders', 'of', 'their', 'respective', 'groups', '.', 'They', 'both', 'try', 'so', 'hard', 'to', 'keep', 'the', 'peace', ',', '&', 'then', 'they', 'finally', 'get', 'into', 'a', 'fight', '(', 'which', 'is', 'hysterical', 'to', 'watch', ')', '.', 'First', ',', 'they', \"'re\", 'both', 'on', 'the', 'floor', '.', 'Then', 'Hunt', 'jumps', 'on', 'a', 'chair', '.', 'Kazihiro', 'jumps', 'on', 'the', 'desk', '.', 'Hunt', 'jumps', 'on', 'the', 'desk', 'with', 'him', '.', 'The', 'fight', 'then', 'spills', 'out', 'from', 'the', 'office', 'into', 'the', 'factory', '.', 'I', 'love', 'that', 'after', 'they', 'are', 'separated', 'by', 'the', 'workers', ',', 'you', 'can', 'tell', 'that', 'they', 'both', 'feel', 'bad', 'for', 'letting', 'things', 'get', 'so', 'out', 'of', 'hand', '.', 'Also', ',', 'there', 'is', 'a', 'scene', 'where', 'you', 'can', 'see', 'the', 'influence', 'that', 'Hunt', 'has', 'had', 'on', 'Kazihiro', '.', 'He', 'is', 'at', 'his', 'house', '&', 'his', 'boss', 'from', 'Japan', 'arrives', '&', 'says', 'he', 'would', 'like', 'to', 'visit', 'the', 'factory', 'tomorrow', ':', '<', 'br', '/><br', '/>Kazihiro', ':', 'Tomorrow', 'not', 'good', 'day', '.', 'Sakamoto', ':', 'Why', 'not', '?', 'Kazihiro', ':', 'Factory', 'is', 'locked', '&', 'we', 'ca', \"n't\", 'find', 'key.<br', '/><br', '/>Tell', 'me', 'you', 'ca', \"n't\", 'picture', 'Michael', 'Keaton', 'saying', 'something', 'like', 'that!<br', '/><br', '/>I', 'guess', 'I', 'really', 'like', 'this', 'movie', 'because', 'it', 'is', 'genuinely', 'funny', ',', '&', 'also', 'shows', 'how', 'people', 'that', 'are', 'radically', 'different', 'can', 'not', 'only', 'learn', 'from', 'each', 'other', ',', 'but', 'become', 'good', 'friends', 'as', 'well', '.'], 'label': 'pos'}\n"
          ],
          "name": "stdout"
        }
      ]
    },
    {
      "cell_type": "code",
      "metadata": {
        "id": "L0QhPPTNd4T5",
        "colab_type": "code",
        "colab": {}
      },
      "source": [
        "# divide train data again into train and validation data\n",
        "\n",
        "train_data, valid_data = train_data.split(random_state = random.seed(SEED))"
      ],
      "execution_count": 0,
      "outputs": []
    },
    {
      "cell_type": "code",
      "metadata": {
        "id": "CgKuXXD9eKY3",
        "colab_type": "code",
        "colab": {
          "base_uri": "https://localhost:8080/",
          "height": 87
        },
        "outputId": "7268fd76-3aca-476b-cb54-e7cf98742c5f"
      },
      "source": [
        "# Extracting top 25000 most common words from all reviews\n",
        "\n",
        "MAX_VOCAB_SIZE = 25_000\n",
        "\n",
        "# For each review the words, text field contains words with most common words\n",
        "\n",
        "TEXT.build_vocab(train_data, max_size = MAX_VOCAB_SIZE)\n",
        "LABEL.build_vocab(train_data)\n",
        "\n",
        "print(f\"Unique tokens in TEXT vocabulary: {len(TEXT.vocab)}\")\n",
        "print(f\"Unique tokens in LABEL vocabulary: {len(LABEL.vocab)}\")\n",
        "\n",
        "print(TEXT.vocab.freqs.most_common(20))"
      ],
      "execution_count": 27,
      "outputs": [
        {
          "output_type": "stream",
          "text": [
            "Unique tokens in TEXT vocabulary: 25002\n",
            "Unique tokens in LABEL vocabulary: 2\n",
            "[('the', 202008), (',', 192080), ('.', 164481), ('a', 109506), ('and', 109236), ('of', 100752), ('to', 93498), ('is', 76004), ('in', 61259), ('I', 54046), ('it', 53369), ('that', 48755), ('\"', 44092), (\"'s\", 43255), ('this', 42291), ('-', 37412), ('/><br', 35659), ('was', 34745), ('as', 30561), ('with', 29885)]\n"
          ],
          "name": "stdout"
        }
      ]
    },
    {
      "cell_type": "code",
      "metadata": {
        "id": "K0FSZ8XqeU0K",
        "colab_type": "code",
        "colab": {}
      },
      "source": [
        "# Initializing Batch Size and selecting device to train the model:  CPU or GPU\n",
        "\n",
        "BATCH_SIZE = 64\n",
        "\n",
        "device = torch.device('cuda' if torch.cuda.is_available() else 'cpu')\n",
        "\n",
        "train_iterator, valid_iterator, test_iterator = data.BucketIterator.splits(\n",
        "    (train_data, valid_data, test_data), \n",
        "    batch_size = BATCH_SIZE,\n",
        "    device = device)"
      ],
      "execution_count": 0,
      "outputs": []
    },
    {
      "cell_type": "code",
      "metadata": {
        "id": "WtwIz8oLeWoO",
        "colab_type": "code",
        "colab": {}
      },
      "source": [
        "#import torch.nn as nn\n",
        "\n",
        "#Creating the RNN Network : Three layers - Embedding Layer, RNN and Output layer(Fully Connecting Layer)\n",
        "\n",
        "class RNN(nn.Module):\n",
        "    def __init__(self, input_dim, embedding_dim, hidden_dim, output_dim):\n",
        "        \n",
        "        super().__init__()\n",
        "        \n",
        "        self.embedding = nn.Embedding(input_dim, embedding_dim)\n",
        "        \n",
        "        self.rnn = nn.RNN(embedding_dim, hidden_dim)\n",
        "        \n",
        "        self.fc = nn.Linear(hidden_dim, output_dim)\n",
        "        \n",
        "    def forward(self, text):\n",
        "\n",
        "        #text = [sent len, batch size]\n",
        "        \n",
        "        embedded = self.embedding(text)\n",
        "        \n",
        "        #embedded = [sent len, batch size, emb dim]\n",
        "        \n",
        "        output, hidden = self.rnn(embedded)\n",
        "        \n",
        "        #output = [sent len, batch size, hid dim]\n",
        "        #hidden = [1, batch size, hid dim]\n",
        "        \n",
        "        assert torch.equal(output[-1,:,:], hidden.squeeze(0))\n",
        "        \n",
        "        return self.fc(hidden.squeeze(0))"
      ],
      "execution_count": 0,
      "outputs": []
    },
    {
      "cell_type": "code",
      "metadata": {
        "id": "sDMPZrL1eYhS",
        "colab_type": "code",
        "colab": {}
      },
      "source": [
        "INPUT_DIM = len(TEXT.vocab)\n",
        "EMBEDDING_DIM = 100\n",
        "HIDDEN_DIM = 256\n",
        "OUTPUT_DIM = 1\n",
        "\n",
        "model = RNN(INPUT_DIM, EMBEDDING_DIM, HIDDEN_DIM, OUTPUT_DIM)"
      ],
      "execution_count": 0,
      "outputs": []
    },
    {
      "cell_type": "code",
      "metadata": {
        "id": "BJiMcw0KebH0",
        "colab_type": "code",
        "colab": {
          "base_uri": "https://localhost:8080/",
          "height": 34
        },
        "outputId": "26c214fd-afb3-4bd4-a88d-3ba4a841be0a"
      },
      "source": [
        "# Calculating No. of Parameters\n",
        "\n",
        "def count_parameters(model):\n",
        "    return sum(p.numel() for p in model.parameters() if p.requires_grad)\n",
        "\n",
        "print(f'The model has {count_parameters(model):,} trainable parameters')"
      ],
      "execution_count": 31,
      "outputs": [
        {
          "output_type": "stream",
          "text": [
            "The model has 2,592,105 trainable parameters\n"
          ],
          "name": "stdout"
        }
      ]
    },
    {
      "cell_type": "code",
      "metadata": {
        "id": "krqv1Yp2eesw",
        "colab_type": "code",
        "colab": {}
      },
      "source": [
        "# Selecting the optimizer - Stochastic Gradient Descent \n",
        "\n",
        "optimizer = optim.SGD(model.parameters(), lr=1e-3)"
      ],
      "execution_count": 0,
      "outputs": []
    },
    {
      "cell_type": "code",
      "metadata": {
        "id": "CaN2A-hMemVs",
        "colab_type": "code",
        "colab": {}
      },
      "source": [
        "criterion = nn.BCEWithLogitsLoss()"
      ],
      "execution_count": 0,
      "outputs": []
    },
    {
      "cell_type": "code",
      "metadata": {
        "id": "DGz41toUeoI6",
        "colab_type": "code",
        "colab": {}
      },
      "source": [
        "model = model.to(device)\n",
        "criterion = criterion.to(device)"
      ],
      "execution_count": 0,
      "outputs": []
    },
    {
      "cell_type": "code",
      "metadata": {
        "id": "a039Q0hbeqIz",
        "colab_type": "code",
        "colab": {}
      },
      "source": [
        "#function to calculate accuracy\n",
        "\n",
        "def binary_accuracy(preds, y):\n",
        "\n",
        "    #round predictions to the closest integer\n",
        "    rounded_preds = torch.round(torch.sigmoid(preds))\n",
        "    correct = (rounded_preds == y).float() #convert into float for division \n",
        "    acc = correct.sum() / len(correct)\n",
        "    return acc"
      ],
      "execution_count": 0,
      "outputs": []
    },
    {
      "cell_type": "code",
      "metadata": {
        "id": "bM518uGZeswH",
        "colab_type": "code",
        "colab": {}
      },
      "source": [
        "# Function to train the network\n",
        "\n",
        "def train(model, iterator, optimizer, criterion):\n",
        "    \n",
        "    epoch_loss = 0\n",
        "    epoch_acc = 0\n",
        "    \n",
        "    model.train()\n",
        "    \n",
        "    for batch in iterator:\n",
        "        \n",
        "        optimizer.zero_grad()\n",
        "                \n",
        "        predictions = model(batch.text).squeeze(1)\n",
        "        \n",
        "        loss = criterion(predictions, batch.label)\n",
        "        \n",
        "        acc = binary_accuracy(predictions, batch.label)\n",
        "        \n",
        "        loss.backward()\n",
        "        \n",
        "        optimizer.step()\n",
        "        \n",
        "        epoch_loss += loss.item()\n",
        "        epoch_acc += acc.item()\n",
        "        \n",
        "    return epoch_loss / len(iterator), epoch_acc / len(iterator)"
      ],
      "execution_count": 0,
      "outputs": []
    },
    {
      "cell_type": "code",
      "metadata": {
        "id": "khQz0f3revkb",
        "colab_type": "code",
        "colab": {}
      },
      "source": [
        "# Evaluate loss and accuracy after each epoch\n",
        "def evaluate(model, iterator, criterion):\n",
        "    \n",
        "    epoch_loss = 0\n",
        "    epoch_acc = 0\n",
        "    \n",
        "    model.eval()\n",
        "    \n",
        "    with torch.no_grad():\n",
        "    \n",
        "        for batch in iterator:\n",
        "\n",
        "            predictions = model(batch.text).squeeze(1)\n",
        "            \n",
        "            loss = criterion(predictions, batch.label)\n",
        "            \n",
        "            acc = binary_accuracy(predictions, batch.label)\n",
        "\n",
        "            epoch_loss += loss.item()\n",
        "            epoch_acc += acc.item()\n",
        "        \n",
        "    return epoch_loss / len(iterator), epoch_acc / len(iterator)"
      ],
      "execution_count": 0,
      "outputs": []
    },
    {
      "cell_type": "code",
      "metadata": {
        "id": "MtgWn7zFexY5",
        "colab_type": "code",
        "colab": {}
      },
      "source": [
        "#import time\n",
        "\n",
        "def epoch_time(start_time, end_time):\n",
        "    elapsed_time = end_time - start_time\n",
        "    elapsed_mins = int(elapsed_time / 60)\n",
        "    elapsed_secs = int(elapsed_time - (elapsed_mins * 60))\n",
        "    return elapsed_mins, elapsed_secs"
      ],
      "execution_count": 0,
      "outputs": []
    },
    {
      "cell_type": "code",
      "metadata": {
        "id": "fTi8I4Mhe30T",
        "colab_type": "code",
        "colab": {
          "base_uri": "https://localhost:8080/",
          "height": 269
        },
        "outputId": "8da4cd0f-7673-419a-b2c8-d800c36550b4"
      },
      "source": [
        "# Training the Network and getting training loss, training accuracy, validation accuracy and validation loss\n",
        "\n",
        "N_EPOCHS = 5\n",
        "\n",
        "best_valid_loss = float('inf')\n",
        "\n",
        "for epoch in range(N_EPOCHS):\n",
        "\n",
        "    start_time = time.time()\n",
        "    \n",
        "    train_loss, train_acc = train(model, train_iterator, optimizer, criterion)\n",
        "    valid_loss, valid_acc = evaluate(model, valid_iterator, criterion)\n",
        "    \n",
        "    end_time = time.time()\n",
        "\n",
        "    epoch_mins, epoch_secs = epoch_time(start_time, end_time)\n",
        "    \n",
        "    if valid_loss < best_valid_loss:\n",
        "        best_valid_loss = valid_loss\n",
        "        torch.save(model.state_dict(), 'tut1-model.pt')\n",
        "    \n",
        "    print(f'Epoch: {epoch+1:02} | Epoch Time: {epoch_mins}m {epoch_secs}s')\n",
        "    print(f'\\tTrain Loss: {train_loss:.3f} | Train Acc: {train_acc*100:.2f}%')\n",
        "    print(f'\\t Val. Loss: {valid_loss:.3f} |  Val. Acc: {valid_acc*100:.2f}%')"
      ],
      "execution_count": 39,
      "outputs": [
        {
          "output_type": "stream",
          "text": [
            "Epoch: 01 | Epoch Time: 0m 23s\n",
            "\tTrain Loss: 0.694 | Train Acc: 50.11%\n",
            "\t Val. Loss: 0.698 |  Val. Acc: 49.53%\n",
            "Epoch: 02 | Epoch Time: 0m 23s\n",
            "\tTrain Loss: 0.693 | Train Acc: 49.96%\n",
            "\t Val. Loss: 0.698 |  Val. Acc: 49.65%\n",
            "Epoch: 03 | Epoch Time: 0m 23s\n",
            "\tTrain Loss: 0.693 | Train Acc: 50.17%\n",
            "\t Val. Loss: 0.698 |  Val. Acc: 50.33%\n",
            "Epoch: 04 | Epoch Time: 0m 23s\n",
            "\tTrain Loss: 0.693 | Train Acc: 49.52%\n",
            "\t Val. Loss: 0.697 |  Val. Acc: 48.90%\n",
            "Epoch: 05 | Epoch Time: 0m 23s\n",
            "\tTrain Loss: 0.693 | Train Acc: 50.17%\n",
            "\t Val. Loss: 0.698 |  Val. Acc: 50.38%\n"
          ],
          "name": "stdout"
        }
      ]
    },
    {
      "cell_type": "code",
      "metadata": {
        "id": "arvOL4CXe-RZ",
        "colab_type": "code",
        "colab": {
          "base_uri": "https://localhost:8080/",
          "height": 34
        },
        "outputId": "1b4ad2af-b362-483a-f833-af16f4a77743"
      },
      "source": [
        "# Print text accuracy after training\n",
        "\n",
        "model.load_state_dict(torch.load('tut1-model.pt'))\n",
        "\n",
        "test_loss, test_acc = evaluate(model, test_iterator, criterion)\n",
        "\n",
        "print(f'Test Loss: {test_loss:.3f} | Test Acc: {test_acc*100:.2f}%')"
      ],
      "execution_count": 40,
      "outputs": [
        {
          "output_type": "stream",
          "text": [
            "Test Loss: 0.711 | Test Acc: 46.56%\n"
          ],
          "name": "stdout"
        }
      ]
    }
  ]
}